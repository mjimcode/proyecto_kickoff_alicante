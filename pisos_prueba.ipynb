{
 "cells": [
  {
   "cell_type": "markdown",
   "id": "e520117b",
   "metadata": {},
   "source": [
    "### Import necessary libraries"
   ]
  },
  {
   "cell_type": "code",
   "execution_count": 182,
   "id": "6fb74d6b",
   "metadata": {},
   "outputs": [],
   "source": [
    "import pandas as pd\n",
    "from sklearn.model_selection import train_test_split\n",
    "from sklearn.linear_model import LinearRegression\n",
    "from sklearn.metrics import mean_squared_error, r2_score\n",
    "from sklearn.preprocessing import OneHotEncoder, StandardScaler\n",
    "from sklearn.compose import ColumnTransformer\n",
    "from sklearn.pipeline import Pipeline\n",
    "from sklearn.neighbors import KNeighborsRegressor\n",
    "from sklearn.model_selection import GridSearchCV, train_test_split\n",
    "import matplotlib.pyplot as plt\n",
    "import seaborn as sns\n",
    "import numpy as np"
   ]
  },
  {
   "cell_type": "markdown",
   "id": "883381b2",
   "metadata": {},
   "source": [
    "### Data Loading and Inspection"
   ]
  },
  {
   "cell_type": "code",
   "execution_count": 183,
   "id": "2ba5e9ff",
   "metadata": {},
   "outputs": [
    {
     "name": "stderr",
     "output_type": "stream",
     "text": [
      "C:\\Users\\Usuario\\AppData\\Local\\Temp\\ipykernel_27096\\402079931.py:2: DtypeWarning: Columns (10) have mixed types. Specify dtype option on import or set low_memory=False.\n",
      "  df = pd.read_csv('pisos.csv')\n"
     ]
    },
    {
     "data": {
      "text/html": [
       "<div>\n",
       "<style scoped>\n",
       "    .dataframe tbody tr th:only-of-type {\n",
       "        vertical-align: middle;\n",
       "    }\n",
       "\n",
       "    .dataframe tbody tr th {\n",
       "        vertical-align: top;\n",
       "    }\n",
       "\n",
       "    .dataframe thead th {\n",
       "        text-align: right;\n",
       "    }\n",
       "</style>\n",
       "<table border=\"1\" class=\"dataframe\">\n",
       "  <thead>\n",
       "    <tr style=\"text-align: right;\">\n",
       "      <th></th>\n",
       "      <th>Unnamed: 0</th>\n",
       "      <th>summary</th>\n",
       "      <th>description</th>\n",
       "      <th>location</th>\n",
       "      <th>photo</th>\n",
       "      <th>recomendado</th>\n",
       "      <th>price</th>\n",
       "      <th>size</th>\n",
       "      <th>rooms</th>\n",
       "      <th>price/m2</th>\n",
       "      <th>bathrooms</th>\n",
       "      <th>Num Photos</th>\n",
       "      <th>type</th>\n",
       "      <th>region</th>\n",
       "    </tr>\n",
       "  </thead>\n",
       "  <tbody>\n",
       "    <tr>\n",
       "      <th>0</th>\n",
       "      <td>0</td>\n",
       "      <td>Casa en calle Urb. Las Mimosas</td>\n",
       "      <td>NaN</td>\n",
       "      <td>Ames (San Tome)</td>\n",
       "      <td>https://fotos4.imghs.net/nrd/1069/104/1069_I00...</td>\n",
       "      <td>Recomendado</td>\n",
       "      <td>250.000 €</td>\n",
       "      <td>315 m²</td>\n",
       "      <td>4</td>\n",
       "      <td>793 €/m²</td>\n",
       "      <td>3</td>\n",
       "      <td>31</td>\n",
       "      <td>pisos</td>\n",
       "      <td>a_coruna</td>\n",
       "    </tr>\n",
       "    <tr>\n",
       "      <th>1</th>\n",
       "      <td>1</td>\n",
       "      <td>Piso en Milladoiro</td>\n",
       "      <td>NaN</td>\n",
       "      <td>Ames (San Tome)</td>\n",
       "      <td>https://fotos4.imghs.net/nrd/1069/113/1069_I00...</td>\n",
       "      <td>Recomendado</td>\n",
       "      <td>90.000 €</td>\n",
       "      <td>72 m²</td>\n",
       "      <td>2</td>\n",
       "      <td>1.250 €/m²</td>\n",
       "      <td>1</td>\n",
       "      <td>11</td>\n",
       "      <td>pisos</td>\n",
       "      <td>a_coruna</td>\n",
       "    </tr>\n",
       "    <tr>\n",
       "      <th>2</th>\n",
       "      <td>2</td>\n",
       "      <td>Casa en calle La Piedra</td>\n",
       "      <td>NaN</td>\n",
       "      <td>A Ortigueira (Cariño)</td>\n",
       "      <td>https://fotos1.imghs.net/nrd//999170/892070610...</td>\n",
       "      <td>Recomendado</td>\n",
       "      <td>50.000 €</td>\n",
       "      <td>92 m²</td>\n",
       "      <td>2</td>\n",
       "      <td>543 €/m²</td>\n",
       "      <td>1</td>\n",
       "      <td>40</td>\n",
       "      <td>pisos</td>\n",
       "      <td>a_coruna</td>\n",
       "    </tr>\n",
       "    <tr>\n",
       "      <th>3</th>\n",
       "      <td>3</td>\n",
       "      <td>Casa en Perillo</td>\n",
       "      <td>NaN</td>\n",
       "      <td>Perillo (Oleiros)</td>\n",
       "      <td>https://fotos3.imghs.net/nrd/1089/198/1089_XA2...</td>\n",
       "      <td>Recomendado</td>\n",
       "      <td>359.000 €</td>\n",
       "      <td>244 m²</td>\n",
       "      <td>4</td>\n",
       "      <td>1.471 €/m²</td>\n",
       "      <td>3</td>\n",
       "      <td>39</td>\n",
       "      <td>pisos</td>\n",
       "      <td>a_coruna</td>\n",
       "    </tr>\n",
       "    <tr>\n",
       "      <th>4</th>\n",
       "      <td>4</td>\n",
       "      <td>Chalet en Urbanización Las Mimosas</td>\n",
       "      <td>NaN</td>\n",
       "      <td>O Milladoiro (Ames)</td>\n",
       "      <td>https://fotos5.imghs.net/nrd/1097/754/1097_0_f...</td>\n",
       "      <td>Recomendado</td>\n",
       "      <td>200.430 €</td>\n",
       "      <td>315 m²</td>\n",
       "      <td>4</td>\n",
       "      <td>636 €/m²</td>\n",
       "      <td>3</td>\n",
       "      <td>24</td>\n",
       "      <td>pisos</td>\n",
       "      <td>a_coruna</td>\n",
       "    </tr>\n",
       "  </tbody>\n",
       "</table>\n",
       "</div>"
      ],
      "text/plain": [
       "   Unnamed: 0                             summary description  \\\n",
       "0           0      Casa en calle Urb. Las Mimosas         NaN   \n",
       "1           1                  Piso en Milladoiro         NaN   \n",
       "2           2             Casa en calle La Piedra         NaN   \n",
       "3           3                     Casa en Perillo         NaN   \n",
       "4           4  Chalet en Urbanización Las Mimosas         NaN   \n",
       "\n",
       "                location                                              photo  \\\n",
       "0        Ames (San Tome)  https://fotos4.imghs.net/nrd/1069/104/1069_I00...   \n",
       "1        Ames (San Tome)  https://fotos4.imghs.net/nrd/1069/113/1069_I00...   \n",
       "2  A Ortigueira (Cariño)  https://fotos1.imghs.net/nrd//999170/892070610...   \n",
       "3      Perillo (Oleiros)  https://fotos3.imghs.net/nrd/1089/198/1089_XA2...   \n",
       "4    O Milladoiro (Ames)  https://fotos5.imghs.net/nrd/1097/754/1097_0_f...   \n",
       "\n",
       "   recomendado      price    size rooms    price/m2 bathrooms Num Photos  \\\n",
       "0  Recomendado  250.000 €  315 m²     4    793 €/m²         3         31   \n",
       "1  Recomendado   90.000 €   72 m²     2  1.250 €/m²         1         11   \n",
       "2  Recomendado   50.000 €   92 m²     2    543 €/m²         1         40   \n",
       "3  Recomendado  359.000 €  244 m²     4  1.471 €/m²         3         39   \n",
       "4  Recomendado  200.430 €  315 m²     4    636 €/m²         3         24   \n",
       "\n",
       "    type    region  \n",
       "0  pisos  a_coruna  \n",
       "1  pisos  a_coruna  \n",
       "2  pisos  a_coruna  \n",
       "3  pisos  a_coruna  \n",
       "4  pisos  a_coruna  "
      ]
     },
     "execution_count": 183,
     "metadata": {},
     "output_type": "execute_result"
    }
   ],
   "source": [
    "# Cargar el archivo CSV\n",
    "df = pd.read_csv('pisos.csv')\n",
    "\n",
    "# Mostrar las primeras filas para inspeccionar el dataset\n",
    "df.head()"
   ]
  },
  {
   "cell_type": "markdown",
   "id": "f495263f",
   "metadata": {},
   "source": [
    "### Displaying General Information"
   ]
  },
  {
   "cell_type": "code",
   "execution_count": 184,
   "id": "dffb3a4a",
   "metadata": {},
   "outputs": [
    {
     "name": "stdout",
     "output_type": "stream",
     "text": [
      "<class 'pandas.core.frame.DataFrame'>\n",
      "RangeIndex: 777179 entries, 0 to 777178\n",
      "Data columns (total 14 columns):\n",
      " #   Column       Non-Null Count   Dtype \n",
      "---  ------       --------------   ----- \n",
      " 0   Unnamed: 0   777179 non-null  int64 \n",
      " 1   summary      777179 non-null  object\n",
      " 2   description  760349 non-null  object\n",
      " 3   location     776886 non-null  object\n",
      " 4   photo        776305 non-null  object\n",
      " 5   recomendado  28241 non-null   object\n",
      " 6   price        776898 non-null  object\n",
      " 7   size         776892 non-null  object\n",
      " 8   rooms        752352 non-null  object\n",
      " 9   price/m2     744608 non-null  object\n",
      " 10  bathrooms    752526 non-null  object\n",
      " 11  Num Photos   776898 non-null  object\n",
      " 12  type         776898 non-null  object\n",
      " 13  region       776282 non-null  object\n",
      "dtypes: int64(1), object(13)\n",
      "memory usage: 83.0+ MB\n"
     ]
    }
   ],
   "source": [
    "# Mostrar información general del dataset\n",
    "df.info()"
   ]
  },
  {
   "cell_type": "markdown",
   "id": "580545f8",
   "metadata": {},
   "source": [
    "### Data Cleaning Process\n",
    "#### 1) Remove Unnecessary Columns\n",
    "#### 2) Clean and Convert Price and Size \n",
    "#### 3) Inspecting Changes"
   ]
  },
  {
   "cell_type": "code",
   "execution_count": 185,
   "id": "dd35c07f",
   "metadata": {},
   "outputs": [
    {
     "data": {
      "text/html": [
       "<div>\n",
       "<style scoped>\n",
       "    .dataframe tbody tr th:only-of-type {\n",
       "        vertical-align: middle;\n",
       "    }\n",
       "\n",
       "    .dataframe tbody tr th {\n",
       "        vertical-align: top;\n",
       "    }\n",
       "\n",
       "    .dataframe thead th {\n",
       "        text-align: right;\n",
       "    }\n",
       "</style>\n",
       "<table border=\"1\" class=\"dataframe\">\n",
       "  <thead>\n",
       "    <tr style=\"text-align: right;\">\n",
       "      <th></th>\n",
       "      <th>location</th>\n",
       "      <th>price</th>\n",
       "      <th>size</th>\n",
       "      <th>rooms</th>\n",
       "      <th>bathrooms</th>\n",
       "      <th>type</th>\n",
       "      <th>region</th>\n",
       "    </tr>\n",
       "  </thead>\n",
       "  <tbody>\n",
       "    <tr>\n",
       "      <th>0</th>\n",
       "      <td>Ames (San Tome)</td>\n",
       "      <td>250.00</td>\n",
       "      <td>315.000</td>\n",
       "      <td>4</td>\n",
       "      <td>3</td>\n",
       "      <td>pisos</td>\n",
       "      <td>a_coruna</td>\n",
       "    </tr>\n",
       "    <tr>\n",
       "      <th>1</th>\n",
       "      <td>Ames (San Tome)</td>\n",
       "      <td>90.00</td>\n",
       "      <td>72.000</td>\n",
       "      <td>2</td>\n",
       "      <td>1</td>\n",
       "      <td>pisos</td>\n",
       "      <td>a_coruna</td>\n",
       "    </tr>\n",
       "    <tr>\n",
       "      <th>2</th>\n",
       "      <td>A Ortigueira (Cariño)</td>\n",
       "      <td>50.00</td>\n",
       "      <td>92.000</td>\n",
       "      <td>2</td>\n",
       "      <td>1</td>\n",
       "      <td>pisos</td>\n",
       "      <td>a_coruna</td>\n",
       "    </tr>\n",
       "    <tr>\n",
       "      <th>3</th>\n",
       "      <td>Perillo (Oleiros)</td>\n",
       "      <td>359.00</td>\n",
       "      <td>244.000</td>\n",
       "      <td>4</td>\n",
       "      <td>3</td>\n",
       "      <td>pisos</td>\n",
       "      <td>a_coruna</td>\n",
       "    </tr>\n",
       "    <tr>\n",
       "      <th>4</th>\n",
       "      <td>O Milladoiro (Ames)</td>\n",
       "      <td>200.43</td>\n",
       "      <td>315.000</td>\n",
       "      <td>4</td>\n",
       "      <td>3</td>\n",
       "      <td>pisos</td>\n",
       "      <td>a_coruna</td>\n",
       "    </tr>\n",
       "    <tr>\n",
       "      <th>...</th>\n",
       "      <td>...</td>\n",
       "      <td>...</td>\n",
       "      <td>...</td>\n",
       "      <td>...</td>\n",
       "      <td>...</td>\n",
       "      <td>...</td>\n",
       "      <td>...</td>\n",
       "    </tr>\n",
       "    <tr>\n",
       "      <th>777174</th>\n",
       "      <td>Cardedeu</td>\n",
       "      <td>NaN</td>\n",
       "      <td>4.381</td>\n",
       "      <td>NaN</td>\n",
       "      <td>NaN</td>\n",
       "      <td>fincas_rusticas</td>\n",
       "      <td>valles_oriental_sud</td>\n",
       "    </tr>\n",
       "    <tr>\n",
       "      <th>777175</th>\n",
       "      <td>Can Bassa-Palou (Granollers)</td>\n",
       "      <td>NaN</td>\n",
       "      <td>4.063</td>\n",
       "      <td>NaN</td>\n",
       "      <td>NaN</td>\n",
       "      <td>fincas_rusticas</td>\n",
       "      <td>valles_oriental_sud</td>\n",
       "    </tr>\n",
       "    <tr>\n",
       "      <th>777176</th>\n",
       "      <td>La Roca del Vallès</td>\n",
       "      <td>NaN</td>\n",
       "      <td>350.000</td>\n",
       "      <td>5</td>\n",
       "      <td>2.0</td>\n",
       "      <td>fincas_rusticas</td>\n",
       "      <td>valles_oriental_sud</td>\n",
       "    </tr>\n",
       "    <tr>\n",
       "      <th>777177</th>\n",
       "      <td>La Roca del Vallès</td>\n",
       "      <td>456.00</td>\n",
       "      <td>202.000</td>\n",
       "      <td>5</td>\n",
       "      <td>3.0</td>\n",
       "      <td>fincas_rusticas</td>\n",
       "      <td>valles_oriental_sud</td>\n",
       "    </tr>\n",
       "    <tr>\n",
       "      <th>777178</th>\n",
       "      <td>Llerona (Les Franqueses del Vallès)</td>\n",
       "      <td>155.00</td>\n",
       "      <td>87.000</td>\n",
       "      <td>1</td>\n",
       "      <td>1.0</td>\n",
       "      <td>lofts</td>\n",
       "      <td>valles_oriental_sud</td>\n",
       "    </tr>\n",
       "  </tbody>\n",
       "</table>\n",
       "<p>777179 rows × 7 columns</p>\n",
       "</div>"
      ],
      "text/plain": [
       "                                   location   price     size rooms bathrooms  \\\n",
       "0                           Ames (San Tome)  250.00  315.000     4         3   \n",
       "1                           Ames (San Tome)   90.00   72.000     2         1   \n",
       "2                     A Ortigueira (Cariño)   50.00   92.000     2         1   \n",
       "3                         Perillo (Oleiros)  359.00  244.000     4         3   \n",
       "4                       O Milladoiro (Ames)  200.43  315.000     4         3   \n",
       "...                                     ...     ...      ...   ...       ...   \n",
       "777174                             Cardedeu     NaN    4.381   NaN       NaN   \n",
       "777175         Can Bassa-Palou (Granollers)     NaN    4.063   NaN       NaN   \n",
       "777176                   La Roca del Vallès     NaN  350.000     5       2.0   \n",
       "777177                   La Roca del Vallès  456.00  202.000     5       3.0   \n",
       "777178  Llerona (Les Franqueses del Vallès)  155.00   87.000     1       1.0   \n",
       "\n",
       "                   type               region  \n",
       "0                 pisos             a_coruna  \n",
       "1                 pisos             a_coruna  \n",
       "2                 pisos             a_coruna  \n",
       "3                 pisos             a_coruna  \n",
       "4                 pisos             a_coruna  \n",
       "...                 ...                  ...  \n",
       "777174  fincas_rusticas  valles_oriental_sud  \n",
       "777175  fincas_rusticas  valles_oriental_sud  \n",
       "777176  fincas_rusticas  valles_oriental_sud  \n",
       "777177  fincas_rusticas  valles_oriental_sud  \n",
       "777178            lofts  valles_oriental_sud  \n",
       "\n",
       "[777179 rows x 7 columns]"
      ]
     },
     "execution_count": 185,
     "metadata": {},
     "output_type": "execute_result"
    }
   ],
   "source": [
    "# Eliminar columnas innecesarias\n",
    "df.drop(columns=['Unnamed: 0', 'description', 'photo', 'Num Photos', 'recomendado', 'price/m2', 'summary'], inplace=True)\n",
    "\n",
    "# Quitar símbolos \"€ y m²\" en 'price' y 'size' y convertir a numérico\n",
    "df['price'] = pd.to_numeric(df['price'].str.replace('€', '').str.replace(',', ''), errors='coerce')\n",
    "df['size'] = pd.to_numeric(df['size'].str.replace('m²', '').str.replace(',', ''), errors='coerce')\n",
    "\n",
    "# Inspeccionar cambios\n",
    "df\n"
   ]
  },
  {
   "cell_type": "markdown",
   "id": "1feddf37",
   "metadata": {},
   "source": [
    "###  Handling Missing Values (Remove Rows with Null Values)"
   ]
  },
  {
   "cell_type": "code",
   "execution_count": 186,
   "id": "acea5036",
   "metadata": {},
   "outputs": [
    {
     "name": "stdout",
     "output_type": "stream",
     "text": [
      "location     9\n",
      "price        0\n",
      "size         0\n",
      "rooms        0\n",
      "bathrooms    0\n",
      "type         0\n",
      "region       0\n",
      "dtype: int64\n"
     ]
    }
   ],
   "source": [
    "# Eliminar filas con valores nulos\n",
    "df = df.dropna(subset=['price', 'size', 'rooms', 'bathrooms', 'region'])\n",
    "\n",
    "# Verificar si todavía quedan valores faltantes\n",
    "print(df.isnull().sum())"
   ]
  },
  {
   "cell_type": "markdown",
   "id": "d8c034e8",
   "metadata": {},
   "source": [
    "### Converting Columns to Numeric Format"
   ]
  },
  {
   "cell_type": "code",
   "execution_count": 187,
   "id": "4f23d856",
   "metadata": {},
   "outputs": [
    {
     "name": "stderr",
     "output_type": "stream",
     "text": [
      "C:\\Users\\Usuario\\AppData\\Local\\Temp\\ipykernel_27096\\3474685177.py:2: SettingWithCopyWarning: \n",
      "A value is trying to be set on a copy of a slice from a DataFrame.\n",
      "Try using .loc[row_indexer,col_indexer] = value instead\n",
      "\n",
      "See the caveats in the documentation: https://pandas.pydata.org/pandas-docs/stable/user_guide/indexing.html#returning-a-view-versus-a-copy\n",
      "  df['rooms'] = pd.to_numeric(df['rooms'], errors='coerce')\n",
      "C:\\Users\\Usuario\\AppData\\Local\\Temp\\ipykernel_27096\\3474685177.py:3: SettingWithCopyWarning: \n",
      "A value is trying to be set on a copy of a slice from a DataFrame.\n",
      "Try using .loc[row_indexer,col_indexer] = value instead\n",
      "\n",
      "See the caveats in the documentation: https://pandas.pydata.org/pandas-docs/stable/user_guide/indexing.html#returning-a-view-versus-a-copy\n",
      "  df['bathrooms'] = pd.to_numeric(df['bathrooms'], errors='coerce')\n",
      "C:\\Users\\Usuario\\AppData\\Local\\Temp\\ipykernel_27096\\3474685177.py:4: SettingWithCopyWarning: \n",
      "A value is trying to be set on a copy of a slice from a DataFrame.\n",
      "Try using .loc[row_indexer,col_indexer] = value instead\n",
      "\n",
      "See the caveats in the documentation: https://pandas.pydata.org/pandas-docs/stable/user_guide/indexing.html#returning-a-view-versus-a-copy\n",
      "  df['price'] = pd.to_numeric(df['price'], errors='coerce')\n",
      "C:\\Users\\Usuario\\AppData\\Local\\Temp\\ipykernel_27096\\3474685177.py:5: SettingWithCopyWarning: \n",
      "A value is trying to be set on a copy of a slice from a DataFrame.\n",
      "Try using .loc[row_indexer,col_indexer] = value instead\n",
      "\n",
      "See the caveats in the documentation: https://pandas.pydata.org/pandas-docs/stable/user_guide/indexing.html#returning-a-view-versus-a-copy\n",
      "  df['size'] = pd.to_numeric(df['size'], errors='coerce')\n"
     ]
    }
   ],
   "source": [
    "\n",
    "# Convertir las columnas a formato numérico sin usar .loc\n",
    "df['rooms'] = pd.to_numeric(df['rooms'], errors='coerce')\n",
    "df['bathrooms'] = pd.to_numeric(df['bathrooms'], errors='coerce')\n",
    "df['price'] = pd.to_numeric(df['price'], errors='coerce')\n",
    "df['size'] = pd.to_numeric(df['size'], errors='coerce')"
   ]
  },
  {
   "cell_type": "markdown",
   "id": "2ce071f5",
   "metadata": {},
   "source": [
    "### Obtaining Unique Values in the 'type' Column"
   ]
  },
  {
   "cell_type": "code",
   "execution_count": 188,
   "id": "f2dee028",
   "metadata": {},
   "outputs": [
    {
     "name": "stdout",
     "output_type": "stream",
     "text": [
      "Valores únicos en 'type':\n",
      "['pisos' 'casas' 'piso' 'aticos' 'duplexs' 'estudios' 'fincas_rusticas'\n",
      " 'lofts']\n"
     ]
    }
   ],
   "source": [
    "# Obtener valores únicos en la columna 'type'\n",
    "unique_types = df['type'].unique()\n",
    "\n",
    "# Imprimir los valores únicos\n",
    "print(\"Valores únicos en 'type':\")\n",
    "print(unique_types)"
   ]
  },
  {
   "cell_type": "markdown",
   "id": "e0176363",
   "metadata": {},
   "source": [
    "### Replacing 'piso' with 'pisos' in the 'type' Column"
   ]
  },
  {
   "cell_type": "code",
   "execution_count": 189,
   "id": "62d65031",
   "metadata": {},
   "outputs": [
    {
     "name": "stdout",
     "output_type": "stream",
     "text": [
      "type\n",
      "pisos              607398\n",
      "casas               87820\n",
      "duplexs             12602\n",
      "aticos              10940\n",
      "fincas_rusticas      4255\n",
      "estudios              553\n",
      "lofts                 419\n",
      "Name: count, dtype: int64\n"
     ]
    },
    {
     "name": "stderr",
     "output_type": "stream",
     "text": [
      "C:\\Users\\Usuario\\AppData\\Local\\Temp\\ipykernel_27096\\1576651671.py:2: SettingWithCopyWarning: \n",
      "A value is trying to be set on a copy of a slice from a DataFrame.\n",
      "Try using .loc[row_indexer,col_indexer] = value instead\n",
      "\n",
      "See the caveats in the documentation: https://pandas.pydata.org/pandas-docs/stable/user_guide/indexing.html#returning-a-view-versus-a-copy\n",
      "  df['type'] = df['type'].replace('piso', 'pisos')\n"
     ]
    }
   ],
   "source": [
    "# Reemplazar 'piso' por 'pisos' en la columna 'type' sin usar .loc\n",
    "df['type'] = df['type'].replace('piso', 'pisos')\n",
    "\n",
    "# Verificar los cambios\n",
    "print(df['type'].value_counts())\n"
   ]
  },
  {
   "cell_type": "markdown",
   "id": "443a6a65",
   "metadata": {},
   "source": [
    "### Removing Outliers from the Dataset\n",
    "\n",
    "#### To ensure the integrity and reliability of the analysis, we calculated the Interquartile Range (IQR) for the numerical columns in the dataset and filtered out the outliers."
   ]
  },
  {
   "cell_type": "code",
   "execution_count": 190,
   "id": "d6e06dc4",
   "metadata": {},
   "outputs": [
    {
     "data": {
      "text/html": [
       "<div>\n",
       "<style scoped>\n",
       "    .dataframe tbody tr th:only-of-type {\n",
       "        vertical-align: middle;\n",
       "    }\n",
       "\n",
       "    .dataframe tbody tr th {\n",
       "        vertical-align: top;\n",
       "    }\n",
       "\n",
       "    .dataframe thead th {\n",
       "        text-align: right;\n",
       "    }\n",
       "</style>\n",
       "<table border=\"1\" class=\"dataframe\">\n",
       "  <thead>\n",
       "    <tr style=\"text-align: right;\">\n",
       "      <th></th>\n",
       "      <th>location</th>\n",
       "      <th>price</th>\n",
       "      <th>size</th>\n",
       "      <th>rooms</th>\n",
       "      <th>bathrooms</th>\n",
       "      <th>type</th>\n",
       "      <th>region</th>\n",
       "    </tr>\n",
       "  </thead>\n",
       "  <tbody>\n",
       "    <tr>\n",
       "      <th>1</th>\n",
       "      <td>Ames (San Tome)</td>\n",
       "      <td>90.0</td>\n",
       "      <td>72.0</td>\n",
       "      <td>2</td>\n",
       "      <td>1.0</td>\n",
       "      <td>pisos</td>\n",
       "      <td>a_coruna</td>\n",
       "    </tr>\n",
       "    <tr>\n",
       "      <th>2</th>\n",
       "      <td>A Ortigueira (Cariño)</td>\n",
       "      <td>50.0</td>\n",
       "      <td>92.0</td>\n",
       "      <td>2</td>\n",
       "      <td>1.0</td>\n",
       "      <td>pisos</td>\n",
       "      <td>a_coruna</td>\n",
       "    </tr>\n",
       "    <tr>\n",
       "      <th>3</th>\n",
       "      <td>Perillo (Oleiros)</td>\n",
       "      <td>359.0</td>\n",
       "      <td>244.0</td>\n",
       "      <td>4</td>\n",
       "      <td>3.0</td>\n",
       "      <td>pisos</td>\n",
       "      <td>a_coruna</td>\n",
       "    </tr>\n",
       "    <tr>\n",
       "      <th>5</th>\n",
       "      <td>Bergondo (Carrio)</td>\n",
       "      <td>320.0</td>\n",
       "      <td>226.0</td>\n",
       "      <td>4</td>\n",
       "      <td>3.0</td>\n",
       "      <td>pisos</td>\n",
       "      <td>a_coruna</td>\n",
       "    </tr>\n",
       "    <tr>\n",
       "      <th>6</th>\n",
       "      <td>Cariño</td>\n",
       "      <td>120.0</td>\n",
       "      <td>196.0</td>\n",
       "      <td>5</td>\n",
       "      <td>2.0</td>\n",
       "      <td>pisos</td>\n",
       "      <td>a_coruna</td>\n",
       "    </tr>\n",
       "    <tr>\n",
       "      <th>...</th>\n",
       "      <td>...</td>\n",
       "      <td>...</td>\n",
       "      <td>...</td>\n",
       "      <td>...</td>\n",
       "      <td>...</td>\n",
       "      <td>...</td>\n",
       "      <td>...</td>\n",
       "    </tr>\n",
       "    <tr>\n",
       "      <th>777159</th>\n",
       "      <td>Congost-Can Gili (Granollers)</td>\n",
       "      <td>240.0</td>\n",
       "      <td>3.0</td>\n",
       "      <td>3</td>\n",
       "      <td>2.0</td>\n",
       "      <td>duplexs</td>\n",
       "      <td>valles_oriental_sud</td>\n",
       "    </tr>\n",
       "    <tr>\n",
       "      <th>777160</th>\n",
       "      <td>La Roca del Vallès</td>\n",
       "      <td>247.0</td>\n",
       "      <td>121.0</td>\n",
       "      <td>3</td>\n",
       "      <td>2.0</td>\n",
       "      <td>duplexs</td>\n",
       "      <td>valles_oriental_sud</td>\n",
       "    </tr>\n",
       "    <tr>\n",
       "      <th>777161</th>\n",
       "      <td>Parets del Vallès</td>\n",
       "      <td>225.0</td>\n",
       "      <td>5.0</td>\n",
       "      <td>5</td>\n",
       "      <td>3.0</td>\n",
       "      <td>duplexs</td>\n",
       "      <td>valles_oriental_sud</td>\n",
       "    </tr>\n",
       "    <tr>\n",
       "      <th>777177</th>\n",
       "      <td>La Roca del Vallès</td>\n",
       "      <td>456.0</td>\n",
       "      <td>202.0</td>\n",
       "      <td>5</td>\n",
       "      <td>3.0</td>\n",
       "      <td>fincas_rusticas</td>\n",
       "      <td>valles_oriental_sud</td>\n",
       "    </tr>\n",
       "    <tr>\n",
       "      <th>777178</th>\n",
       "      <td>Llerona (Les Franqueses del Vallès)</td>\n",
       "      <td>155.0</td>\n",
       "      <td>87.0</td>\n",
       "      <td>1</td>\n",
       "      <td>1.0</td>\n",
       "      <td>lofts</td>\n",
       "      <td>valles_oriental_sud</td>\n",
       "    </tr>\n",
       "  </tbody>\n",
       "</table>\n",
       "<p>626643 rows × 7 columns</p>\n",
       "</div>"
      ],
      "text/plain": [
       "                                   location  price   size  rooms  bathrooms  \\\n",
       "1                           Ames (San Tome)   90.0   72.0      2        1.0   \n",
       "2                     A Ortigueira (Cariño)   50.0   92.0      2        1.0   \n",
       "3                         Perillo (Oleiros)  359.0  244.0      4        3.0   \n",
       "5                         Bergondo (Carrio)  320.0  226.0      4        3.0   \n",
       "6                                    Cariño  120.0  196.0      5        2.0   \n",
       "...                                     ...    ...    ...    ...        ...   \n",
       "777159        Congost-Can Gili (Granollers)  240.0    3.0      3        2.0   \n",
       "777160                   La Roca del Vallès  247.0  121.0      3        2.0   \n",
       "777161                    Parets del Vallès  225.0    5.0      5        3.0   \n",
       "777177                   La Roca del Vallès  456.0  202.0      5        3.0   \n",
       "777178  Llerona (Les Franqueses del Vallès)  155.0   87.0      1        1.0   \n",
       "\n",
       "                   type               region  \n",
       "1                 pisos             a_coruna  \n",
       "2                 pisos             a_coruna  \n",
       "3                 pisos             a_coruna  \n",
       "5                 pisos             a_coruna  \n",
       "6                 pisos             a_coruna  \n",
       "...                 ...                  ...  \n",
       "777159          duplexs  valles_oriental_sud  \n",
       "777160          duplexs  valles_oriental_sud  \n",
       "777161          duplexs  valles_oriental_sud  \n",
       "777177  fincas_rusticas  valles_oriental_sud  \n",
       "777178            lofts  valles_oriental_sud  \n",
       "\n",
       "[626643 rows x 7 columns]"
      ]
     },
     "execution_count": 190,
     "metadata": {},
     "output_type": "execute_result"
    }
   ],
   "source": [
    "# Calcular los límites para 'size'\n",
    "Q1_size = df['size'].quantile(0.25)\n",
    "Q3_size = df['size'].quantile(0.75)\n",
    "IQR_size = Q3_size - Q1_size\n",
    "lower_bound_size = Q1_size - 1.5 * IQR_size\n",
    "upper_bound_size = Q3_size + 1.5 * IQR_size\n",
    "\n",
    "# Calcular los límites para 'rooms'\n",
    "Q1_rooms = df['rooms'].quantile(0.25)\n",
    "Q3_rooms = df['rooms'].quantile(0.75)\n",
    "IQR_rooms = Q3_rooms - Q1_rooms\n",
    "lower_bound_rooms = Q1_rooms - 1.5 * IQR_rooms\n",
    "upper_bound_rooms = Q3_rooms + 1.5 * IQR_rooms\n",
    "\n",
    "# Calcular los límites para 'bathrooms'\n",
    "Q1_bathrooms = df['bathrooms'].quantile(0.25)\n",
    "Q3_bathrooms = df['bathrooms'].quantile(0.75)\n",
    "IQR_bathrooms = Q3_bathrooms - Q1_bathrooms\n",
    "lower_bound_bathrooms = Q1_bathrooms - 1.5 * IQR_bathrooms\n",
    "upper_bound_bathrooms = Q3_bathrooms + 1.5 * IQR_bathrooms\n",
    "\n",
    "# Calcular los límites para 'price'\n",
    "Q1_price = df['price'].quantile(0.25)\n",
    "Q3_price = df['price'].quantile(0.75)\n",
    "IQR_price = Q3_price - Q1_price\n",
    "lower_bound_price = Q1_price - 1.5 * IQR_price\n",
    "upper_bound_price = Q3_price + 1.5 * IQR_price\n",
    "\n",
    "# Filtrar el DataFrame para eliminar los outliers de todas las columnas\n",
    "df_cleaned_final = df[\n",
    "    (df['size'] >= lower_bound_size) & (df['size'] <= upper_bound_size) &\n",
    "    (df['rooms'] >= lower_bound_rooms) & (df['rooms'] <= upper_bound_rooms) &\n",
    "    (df['bathrooms'] >= lower_bound_bathrooms) & (df['bathrooms'] <= upper_bound_bathrooms) &\n",
    "    (df['price'] >= lower_bound_price) & (df['price'] <= upper_bound_price)\n",
    "]\n",
    "\n",
    "df_cleaned_final\n"
   ]
  },
  {
   "cell_type": "code",
   "execution_count": 191,
   "id": "8b17af3f",
   "metadata": {},
   "outputs": [
    {
     "name": "stdout",
     "output_type": "stream",
     "text": [
      "['alicante']\n"
     ]
    }
   ],
   "source": [
    "# Filtrar el DataFrame para conservar solo las filas donde 'region' es 'Alicante'\n",
    "df_cleaned_final = df_cleaned_final[df_cleaned_final['region'].str.lower().isin(['alicante'])]\n",
    "\n",
    "# Mostrar valores únicos para verificar los cambios\n",
    "valores_unicos_actualizados = df_cleaned_final['region'].unique()\n",
    "print(valores_unicos_actualizados)\n"
   ]
  },
  {
   "cell_type": "code",
   "execution_count": 192,
   "id": "d43c1b41",
   "metadata": {},
   "outputs": [
    {
     "data": {
      "text/plain": [
       "(8923, 7)"
      ]
     },
     "execution_count": 192,
     "metadata": {},
     "output_type": "execute_result"
    }
   ],
   "source": [
    "df_cleaned_final.shape"
   ]
  },
  {
   "cell_type": "markdown",
   "id": "9fb721dd",
   "metadata": {},
   "source": [
    "### Size Column Data Cleaning\n",
    "\n",
    "In our dataset, we identified and addressed issues related to the `size` column, which represents the size of properties in square meters. The following steps were taken to ensure the data's integrity and relevance:\n",
    "\n",
    "1. **Outlier Removal**: \n",
    "   - We calculated the interquartile range (IQR) for the `size` column to identify outliers. \n",
    "   - Using the 1.5 * IQR rule, we filtered out properties that had a `size` less than the lower bound or greater than the upper bound.\n",
    "\n",
    "2. **Minimum Size Check**:\n",
    "   - Upon further examination, we noticed that there were properties with a size of only 1 square meter, which seemed unusually low. \n",
    "   - To establish a more reasonable threshold, we calculated the minimum common size for the dataset, which was determined to be 45 square meters (5th percentile).\n",
    "\n",
    "3. **Removal of Small Properties**:\n",
    "   - We counted how many properties had a size less than 45 square meters. \n",
    "   - After confirming the number of small properties (1,751 in total), we proceeded to remove these entries from our dataset.\n",
    "\n",
    "4. **Final Verification**:\n",
    "   - Post-removal, we verified that no properties remained with a size less than 45 square meters, ensuring the dataset now contains only relevant and appropriately sized properties.\n",
    "\n",
    "These steps helped us refine the dataset, making it more accurate for subsequent analysis and modeling.\n"
   ]
  },
  {
   "cell_type": "code",
   "execution_count": 193,
   "metadata": {},
   "outputs": [
    {
     "name": "stdout",
     "output_type": "stream",
     "text": [
      "Tamaño mínimo común (5%): 47.0\n"
     ]
    }
   ],
   "source": [
    "min_common_size = df_cleaned_final['size'].quantile(0.05)  # 5% como ejemplo\n",
    "print(f\"Tamaño mínimo común (5%): {min_common_size}\")"
   ]
  },
  {
   "cell_type": "code",
   "execution_count": 194,
   "id": "bc6baceb",
   "metadata": {},
   "outputs": [
    {
     "name": "stdout",
     "output_type": "stream",
     "text": [
      "count    8923.000000\n",
      "mean      106.082889\n",
      "std        49.253669\n",
      "min         1.000000\n",
      "25%        75.000000\n",
      "50%        98.000000\n",
      "75%       126.000000\n",
      "max       283.000000\n",
      "Name: size, dtype: float64\n"
     ]
    }
   ],
   "source": [
    "# Resumen estadístico de la columna 'size'\n",
    "print(df_cleaned_final['size'].describe())\n"
   ]
  },
  {
   "cell_type": "code",
   "execution_count": 195,
   "id": "5b3379db",
   "metadata": {},
   "outputs": [
    {
     "data": {
      "text/html": [
       "<div>\n",
       "<style scoped>\n",
       "    .dataframe tbody tr th:only-of-type {\n",
       "        vertical-align: middle;\n",
       "    }\n",
       "\n",
       "    .dataframe tbody tr th {\n",
       "        vertical-align: top;\n",
       "    }\n",
       "\n",
       "    .dataframe thead th {\n",
       "        text-align: right;\n",
       "    }\n",
       "</style>\n",
       "<table border=\"1\" class=\"dataframe\">\n",
       "  <thead>\n",
       "    <tr style=\"text-align: right;\">\n",
       "      <th></th>\n",
       "      <th>location</th>\n",
       "      <th>price</th>\n",
       "      <th>size</th>\n",
       "      <th>rooms</th>\n",
       "      <th>bathrooms</th>\n",
       "      <th>type</th>\n",
       "      <th>region</th>\n",
       "    </tr>\n",
       "  </thead>\n",
       "  <tbody>\n",
       "    <tr>\n",
       "      <th>7280</th>\n",
       "      <td>Polop</td>\n",
       "      <td>51.600</td>\n",
       "      <td>1.0</td>\n",
       "      <td>1</td>\n",
       "      <td>1.0</td>\n",
       "      <td>pisos</td>\n",
       "      <td>alicante</td>\n",
       "    </tr>\n",
       "    <tr>\n",
       "      <th>7787</th>\n",
       "      <td>Mascarat (Altea)</td>\n",
       "      <td>148.000</td>\n",
       "      <td>1.0</td>\n",
       "      <td>1</td>\n",
       "      <td>1.0</td>\n",
       "      <td>pisos</td>\n",
       "      <td>alicante</td>\n",
       "    </tr>\n",
       "    <tr>\n",
       "      <th>7918</th>\n",
       "      <td>Cala de Villajoyosa (Villajoyosa - La Vila Joi...</td>\n",
       "      <td>125.000</td>\n",
       "      <td>1.0</td>\n",
       "      <td>1</td>\n",
       "      <td>1.0</td>\n",
       "      <td>pisos</td>\n",
       "      <td>alicante</td>\n",
       "    </tr>\n",
       "    <tr>\n",
       "      <th>8307</th>\n",
       "      <td>Polop</td>\n",
       "      <td>60.000</td>\n",
       "      <td>1.0</td>\n",
       "      <td>1</td>\n",
       "      <td>1.0</td>\n",
       "      <td>pisos</td>\n",
       "      <td>alicante</td>\n",
       "    </tr>\n",
       "    <tr>\n",
       "      <th>167464</th>\n",
       "      <td>Las Filipinas-Villamartín-Canal Norte (Distrit...</td>\n",
       "      <td>241.200</td>\n",
       "      <td>1.0</td>\n",
       "      <td>4</td>\n",
       "      <td>3.0</td>\n",
       "      <td>casas</td>\n",
       "      <td>alicante</td>\n",
       "    </tr>\n",
       "    <tr>\n",
       "      <th>169226</th>\n",
       "      <td>Polop</td>\n",
       "      <td>51.600</td>\n",
       "      <td>1.0</td>\n",
       "      <td>1</td>\n",
       "      <td>1.0</td>\n",
       "      <td>pisos</td>\n",
       "      <td>alicante</td>\n",
       "    </tr>\n",
       "    <tr>\n",
       "      <th>169529</th>\n",
       "      <td>Mascarat (Altea)</td>\n",
       "      <td>148.000</td>\n",
       "      <td>1.0</td>\n",
       "      <td>1</td>\n",
       "      <td>1.0</td>\n",
       "      <td>pisos</td>\n",
       "      <td>alicante</td>\n",
       "    </tr>\n",
       "    <tr>\n",
       "      <th>169603</th>\n",
       "      <td>Cala de Villajoyosa (Villajoyosa - La Vila Joi...</td>\n",
       "      <td>125.000</td>\n",
       "      <td>1.0</td>\n",
       "      <td>1</td>\n",
       "      <td>1.0</td>\n",
       "      <td>pisos</td>\n",
       "      <td>alicante</td>\n",
       "    </tr>\n",
       "    <tr>\n",
       "      <th>169779</th>\n",
       "      <td>Polop</td>\n",
       "      <td>60.000</td>\n",
       "      <td>1.0</td>\n",
       "      <td>1</td>\n",
       "      <td>1.0</td>\n",
       "      <td>pisos</td>\n",
       "      <td>alicante</td>\n",
       "    </tr>\n",
       "    <tr>\n",
       "      <th>170812</th>\n",
       "      <td>Centre-Port-Platja Llevant (Santa Pola)</td>\n",
       "      <td>80.000</td>\n",
       "      <td>1.0</td>\n",
       "      <td>1</td>\n",
       "      <td>1.0</td>\n",
       "      <td>pisos</td>\n",
       "      <td>alicante</td>\n",
       "    </tr>\n",
       "    <tr>\n",
       "      <th>171420</th>\n",
       "      <td>Centre-Port-Platja Llevant (Santa Pola)</td>\n",
       "      <td>96.000</td>\n",
       "      <td>1.0</td>\n",
       "      <td>1</td>\n",
       "      <td>1.0</td>\n",
       "      <td>pisos</td>\n",
       "      <td>alicante</td>\n",
       "    </tr>\n",
       "    <tr>\n",
       "      <th>172467</th>\n",
       "      <td>Plans-Gasparot (Villajoyosa - La Vila Joiosa)</td>\n",
       "      <td>140.000</td>\n",
       "      <td>1.0</td>\n",
       "      <td>1</td>\n",
       "      <td>2.0</td>\n",
       "      <td>aticos</td>\n",
       "      <td>alicante</td>\n",
       "    </tr>\n",
       "    <tr>\n",
       "      <th>172586</th>\n",
       "      <td>Centro Urbano (Dénia)</td>\n",
       "      <td>179.000</td>\n",
       "      <td>1.0</td>\n",
       "      <td>1</td>\n",
       "      <td>1.0</td>\n",
       "      <td>aticos</td>\n",
       "      <td>alicante</td>\n",
       "    </tr>\n",
       "    <tr>\n",
       "      <th>172766</th>\n",
       "      <td>Fontcalent (Distrito Partidas de Alicante. Ali...</td>\n",
       "      <td>189.400</td>\n",
       "      <td>1.0</td>\n",
       "      <td>1</td>\n",
       "      <td>1.0</td>\n",
       "      <td>aticos</td>\n",
       "      <td>alicante</td>\n",
       "    </tr>\n",
       "    <tr>\n",
       "      <th>172772</th>\n",
       "      <td>Fontcalent (Distrito Partidas de Alicante. Ali...</td>\n",
       "      <td>166.999</td>\n",
       "      <td>1.0</td>\n",
       "      <td>1</td>\n",
       "      <td>1.0</td>\n",
       "      <td>aticos</td>\n",
       "      <td>alicante</td>\n",
       "    </tr>\n",
       "  </tbody>\n",
       "</table>\n",
       "</div>"
      ],
      "text/plain": [
       "                                                 location    price  size  \\\n",
       "7280                                                Polop   51.600   1.0   \n",
       "7787                                     Mascarat (Altea)  148.000   1.0   \n",
       "7918    Cala de Villajoyosa (Villajoyosa - La Vila Joi...  125.000   1.0   \n",
       "8307                                                Polop   60.000   1.0   \n",
       "167464  Las Filipinas-Villamartín-Canal Norte (Distrit...  241.200   1.0   \n",
       "169226                                              Polop   51.600   1.0   \n",
       "169529                                   Mascarat (Altea)  148.000   1.0   \n",
       "169603  Cala de Villajoyosa (Villajoyosa - La Vila Joi...  125.000   1.0   \n",
       "169779                                              Polop   60.000   1.0   \n",
       "170812            Centre-Port-Platja Llevant (Santa Pola)   80.000   1.0   \n",
       "171420            Centre-Port-Platja Llevant (Santa Pola)   96.000   1.0   \n",
       "172467      Plans-Gasparot (Villajoyosa - La Vila Joiosa)  140.000   1.0   \n",
       "172586                              Centro Urbano (Dénia)  179.000   1.0   \n",
       "172766  Fontcalent (Distrito Partidas de Alicante. Ali...  189.400   1.0   \n",
       "172772  Fontcalent (Distrito Partidas de Alicante. Ali...  166.999   1.0   \n",
       "\n",
       "        rooms  bathrooms    type    region  \n",
       "7280        1        1.0   pisos  alicante  \n",
       "7787        1        1.0   pisos  alicante  \n",
       "7918        1        1.0   pisos  alicante  \n",
       "8307        1        1.0   pisos  alicante  \n",
       "167464      4        3.0   casas  alicante  \n",
       "169226      1        1.0   pisos  alicante  \n",
       "169529      1        1.0   pisos  alicante  \n",
       "169603      1        1.0   pisos  alicante  \n",
       "169779      1        1.0   pisos  alicante  \n",
       "170812      1        1.0   pisos  alicante  \n",
       "171420      1        1.0   pisos  alicante  \n",
       "172467      1        2.0  aticos  alicante  \n",
       "172586      1        1.0  aticos  alicante  \n",
       "172766      1        1.0  aticos  alicante  \n",
       "172772      1        1.0  aticos  alicante  "
      ]
     },
     "execution_count": 195,
     "metadata": {},
     "output_type": "execute_result"
    }
   ],
   "source": [
    "\n",
    "# Filtrar propiedades con size igual a 1\n",
    "one_square_meter_properties = df_cleaned_final[df_cleaned_final['size'] == 1]\n",
    "one_square_meter_properties"
   ]
  },
  {
   "cell_type": "code",
   "execution_count": 213,
   "id": "f4832cb9",
   "metadata": {},
   "outputs": [
    {
     "name": "stdout",
     "output_type": "stream",
     "text": [
      "Tamaño mínimo común (5%): 60.0\n"
     ]
    }
   ],
   "source": [
    "min_common_size = df_cleaned_final['size'].quantile(0.05)  # 5% como ejemplo\n",
    "print(f\"Tamaño mínimo común (5%): {min_common_size}\")"
   ]
  },
  {
   "cell_type": "code",
   "execution_count": 216,
   "id": "3df8f144",
   "metadata": {},
   "outputs": [
    {
     "name": "stdout",
     "output_type": "stream",
     "text": [
      "Número de viviendas con tamaño menor a 60.0 m²: 299\n"
     ]
    }
   ],
   "source": [
    "# Contar cuántas viviendas tienen un tamaño menor al tamaño mínimo común\n",
    "num_small_properties = df_cleaned_final[df_cleaned_final['size'] < 60.0].shape[0]\n",
    "print(f\"Número de viviendas con tamaño menor a 60.0 m²: {num_small_properties}\")\n"
   ]
  },
  {
   "cell_type": "code",
   "execution_count": 217,
   "id": "be276269",
   "metadata": {},
   "outputs": [
    {
     "name": "stdout",
     "output_type": "stream",
     "text": [
      "Número de viviendas restantes después de eliminar las pequeñas: 7259\n"
     ]
    }
   ],
   "source": [
    "# Eliminar viviendas con tamaño menor a 60.0 m²\n",
    "df_cleaned_final = df_cleaned_final[df_cleaned_final['size'] >= 60.0]\n",
    "\n",
    "# Contar cuántas viviendas quedan después de la eliminación\n",
    "num_remaining_properties = df_cleaned_final.shape[0]\n",
    "print(f\"Número de viviendas restantes después de eliminar las pequeñas: {num_remaining_properties}\")\n"
   ]
  },
  {
   "cell_type": "markdown",
   "id": "5d31c2a5",
   "metadata": {},
   "source": [
    "### Media y Mediana de Precio por Tipo de Propiedad"
   ]
  },
  {
   "cell_type": "code",
   "execution_count": 220,
   "id": "6b8061b0",
   "metadata": {},
   "outputs": [
    {
     "data": {
      "image/png": "[encoded data removed]",
      "text/plain": [
       "<Figure size 1200x600 with 1 Axes>"
      ]
     },
     "metadata": {},
     "output_type": "display_data"
    }
   ],
   "source": [
    "\n",
    "\n",
    "# Calcular la media y la mediana del precio por tipo de propiedad\n",
    "price_stats = df_cleaned_final.groupby('type')['price'].agg(['mean', 'median']).reset_index()\n",
    "\n",
    "# Crear un gráfico de barras\n",
    "plt.figure(figsize=(12, 6))\n",
    "sns.barplot(data=price_stats.melt(id_vars='type'), x='type', y='value', hue='variable')\n",
    "plt.title('Media y Mediana del Precio por Tipo de Propiedad')\n",
    "plt.xlabel('Tipo de Propiedad')\n",
    "plt.ylabel('Precio (€)')\n",
    "plt.xticks(rotation=45)\n",
    "plt.legend(title='Estadística', labels=['Media', 'Mediana'])\n",
    "plt.show()\n"
   ]
  },
  {
   "cell_type": "code",
   "execution_count": 221,
   "id": "f4540f20",
   "metadata": {},
   "outputs": [
    {
     "data": {
      "image/png": "[encoded data removed]",
      "text/plain": [
       "<Figure size 1200x600 with 1 Axes>"
      ]
     },
     "metadata": {},
     "output_type": "display_data"
    }
   ],
   "source": [
    "plt.figure(figsize=(12, 6))\n",
    "sns.boxplot(data=df_cleaned_final, x='type', y='price')\n",
    "plt.title('Distribución del Precio por Tipo de Propiedad')\n",
    "plt.xlabel('Tipo de Propiedad')\n",
    "plt.ylabel('Precio (€)')\n",
    "plt.xticks(rotation=45)\n",
    "plt.show()\n"
   ]
  },
  {
   "cell_type": "code",
   "execution_count": 222,
   "id": "a2cf6152",
   "metadata": {},
   "outputs": [
    {
     "name": "stderr",
     "output_type": "stream",
     "text": [
      "C:\\Users\\Usuario\\AppData\\Local\\Temp\\ipykernel_27096\\3314408954.py:10: FutureWarning: \n",
      "\n",
      "Passing `palette` without assigning `hue` is deprecated and will be removed in v0.14.0. Assign the `y` variable to `hue` and set `legend=False` for the same effect.\n",
      "\n",
      "  sns.barplot(data=type_counts_df, x='Cantidad', y='Tipo de Propiedad', palette='viridis')\n"
     ]
    },
    {
     "data": {
      "image/png": "[encoded data removed]",
      "text/plain": [
       "<Figure size 1000x600 with 1 Axes>"
      ]
     },
     "metadata": {},
     "output_type": "display_data"
    }
   ],
   "source": [
    "# Calcular el conteo de cada tipo de propiedad\n",
    "type_counts = df_cleaned_final['type'].value_counts()\n",
    "\n",
    "# Crear un DataFrame para facilitar la visualización\n",
    "type_counts_df = type_counts.reset_index()\n",
    "type_counts_df.columns = ['Tipo de Propiedad', 'Cantidad']\n",
    "\n",
    "# Crear un gráfico de barras\n",
    "plt.figure(figsize=(10, 6))\n",
    "sns.barplot(data=type_counts_df, x='Cantidad', y='Tipo de Propiedad', palette='viridis')\n",
    "plt.title('Proporción de Tipos de Propiedades')\n",
    "plt.xlabel('Cantidad')\n",
    "plt.ylabel('Tipo de Propiedad')\n",
    "plt.show()\n"
   ]
  },
  {
   "cell_type": "markdown",
   "id": "a47d3906",
   "metadata": {},
   "source": [
    "### The correlation matrix (shows the correlation between various numerical features)."
   ]
  },
  {
   "cell_type": "code",
   "execution_count": 223,
   "id": "c9879e45",
   "metadata": {},
   "outputs": [
    {
     "data": {
      "image/png": "[encoded data removed]",
      "text/plain": [
       "<Figure size 1200x800 with 2 Axes>"
      ]
     },
     "metadata": {},
     "output_type": "display_data"
    }
   ],
   "source": [
    "# Filtrar solo columnas numéricas\n",
    "numeric_df = df_cleaned_final.select_dtypes(include='number')\n",
    "\n",
    "# Calcular la matriz de correlación\n",
    "correlation_matrix = numeric_df.corr()\n",
    "\n",
    "# Configurar el tamaño del gráfico\n",
    "plt.figure(figsize=(12, 8))\n",
    "\n",
    "# Crear un mapa de calor\n",
    "sns.heatmap(correlation_matrix, annot=True, fmt=\".2f\", cmap='coolwarm', square=True, \n",
    "            cbar_kws={\"shrink\": .8})\n",
    "\n",
    "# Añadir un título\n",
    "plt.title('Matriz de Correlación', fontsize=16)\n",
    "plt.show()\n"
   ]
  },
  {
   "cell_type": "markdown",
   "id": "c3b12651",
   "metadata": {},
   "source": [
    "### Perform Train Test Split"
   ]
  },
  {
   "cell_type": "markdown",
   "id": "46815601",
   "metadata": {},
   "source": [
    "### Linear Regression Model for Price Prediction\n",
    "\n",
    "#### In this section, we defined the features and target variable, preprocessed the data, trained a linear regression model, and evaluated its performance."
   ]
  },
  {
   "cell_type": "code",
   "execution_count": 224,
   "id": "60056944",
   "metadata": {},
   "outputs": [
    {
     "name": "stdout",
     "output_type": "stream",
     "text": [
      "Error cuadrático medio (MSE): 5156.95\n",
      "R² score del modelo en el conjunto de prueba: 0.3612\n"
     ]
    }
   ],
   "source": [
    "# Definir características (features) y variable objetivo (target)\n",
    "X = df_cleaned_final[['size', 'rooms', 'bathrooms', 'type']]\n",
    "y = df_cleaned_final['price']  # La variable objetivo\n",
    "\n",
    "# Preprocesar características categóricas y escalar numéricas\n",
    "preprocessor = ColumnTransformer(\n",
    "    transformers=[\n",
    "        ('num', StandardScaler(), ['size', 'rooms', 'bathrooms']),  # Escalar columnas numéricas\n",
    "        ('cat', OneHotEncoder(handle_unknown='ignore'), ['type'])  # One-Hot-Encoding para columnas categóricas\n",
    "    ],\n",
    "    remainder='passthrough'  # No eliminar otras columnas si las hay\n",
    ")\n",
    "\n",
    "# Crear un pipeline que primero preprocesa y luego ajusta el modelo\n",
    "model = Pipeline(steps=[\n",
    "    ('preprocessor', preprocessor),\n",
    "    ('regressor', LinearRegression())\n",
    "])\n",
    "\n",
    "# Dividir el dataset en conjunto de entrenamiento y prueba\n",
    "X_train, X_test, y_train, y_test = train_test_split(X, y, test_size=0.2, random_state=42)\n",
    "\n",
    "# Ajustar el modelo a los datos de entrenamiento\n",
    "model.fit(X_train, y_train)\n",
    "\n",
    "# Realizar predicciones en el conjunto de prueba\n",
    "y_pred = model.predict(X_test)\n",
    "\n",
    "# Evaluar el rendimiento del modelo\n",
    "mse = mean_squared_error(y_test, y_pred)\n",
    "r2 = r2_score(y_test, y_pred)\n",
    "\n",
    "print(f\"Error cuadrático medio (MSE): {mse:.2f}\")\n",
    "print(f\"R² score del modelo en el conjunto de prueba: {r2:.4f}\")\n"
   ]
  },
  {
   "cell_type": "code",
   "execution_count": 209,
   "id": "001adba2",
   "metadata": {},
   "outputs": [
    {
     "name": "stdout",
     "output_type": "stream",
     "text": [
      "Error cuadrático medio (MSE): 4843.89\n",
      "Error absoluto medio (MAE): 53.06\n",
      "Raíz del error cuadrático medio (RMSE): 69.60\n",
      "R² score del modelo en el conjunto de prueba: 0.3714\n"
     ]
    }
   ],
   "source": [
    "from sklearn.metrics import mean_absolute_error\n",
    "\n",
    "# Evaluar el rendimiento del modelo\n",
    "mse = mean_squared_error(y_test, y_pred)\n",
    "mae = mean_absolute_error(y_test, y_pred)\n",
    "rmse = np.sqrt(mse)  # RMSE es simplemente la raíz cuadrada del MSE\n",
    "r2 = r2_score(y_test, y_pred)\n",
    "\n",
    "print(f\"Error cuadrático medio (MSE): {mse:.2f}\")\n",
    "print(f\"Error absoluto medio (MAE): {mae:.2f}\")\n",
    "print(f\"Raíz del error cuadrático medio (RMSE): {rmse:.2f}\")\n",
    "print(f\"R² score del modelo en el conjunto de prueba: {r2:.4f}\")\n"
   ]
  },
  {
   "cell_type": "code",
   "execution_count": 225,
   "id": "30df7c8c",
   "metadata": {},
   "outputs": [
    {
     "data": {
      "image/png": "[encoded data removed]",
      "text/plain": [
       "<Figure size 640x480 with 1 Axes>"
      ]
     },
     "metadata": {},
     "output_type": "display_data"
    }
   ],
   "source": [
    "import matplotlib.pyplot as plt\n",
    "\n",
    "# Gráfica de predicciones vs valores reales\n",
    "plt.scatter(y_test, y_pred)\n",
    "plt.xlabel('Valores reales')\n",
    "plt.ylabel('Predicciones')\n",
    "plt.title('Predicciones vs Valores Reales')\n",
    "plt.plot([min(y_test), max(y_test)], [min(y_test), max(y_test)], color='red', linestyle='--')  # Línea de referencia\n",
    "plt.show()\n"
   ]
  },
  {
   "cell_type": "code",
   "execution_count": null,
   "id": "2da05dc3",
   "metadata": {},
   "outputs": [],
   "source": []
  }
 ],
 "metadata": {
  "kernelspec": {
   "display_name": "base",
   "language": "python",
   "name": "python3"
  },
  "language_info": {
   "codemirror_mode": {
    "name": "ipython",
    "version": 3
   },
   "file_extension": ".py",
   "mimetype": "text/x-python",
   "name": "python",
   "nbconvert_exporter": "python",
   "pygments_lexer": "ipython3",
   "version": "3.12.4"
  }
 },
 "nbformat": 4,
 "nbformat_minor": 5
}
